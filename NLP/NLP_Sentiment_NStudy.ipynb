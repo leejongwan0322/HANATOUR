{
 "cells": [
  {
   "cell_type": "code",
   "execution_count": 4,
   "metadata": {},
   "outputs": [
    {
     "name": "stdout",
     "output_type": "stream",
     "text": [
      "         id  sentiment                                             review\n",
      "0  \"5814_8\"          1  \"With all this stuff going down at the moment ...\n",
      "1  \"2381_9\"          1  \"\\\"The Classic War of the Worlds\\\" by Timothy ...\n",
      "2  \"7759_3\"          0  \"The film starts with a manager (Nicholas Bell...\n",
      "3  \"3630_4\"          0  \"It must be assumed that those who praised thi...\n",
      "4  \"9495_8\"          1  \"Superbly trashy and wondrously unpretentious ...\n"
     ]
    }
   ],
   "source": [
    "import pandas as pd\n",
    "import re\n",
    "\n",
    "review_df = pd.read_csv('C:\\\\Users\\\\HANA\\\\PycharmProjects\\\\HANATOUR\\\\NLP\\\\TEXT_Example\\\\labeledTrainData.tsv', header=0, sep=\"\\t\", quoting=3)\n",
    "\n",
    "print(review_df.head())\n",
    "# print(review_df['review'][0])\n",
    "\n",
    "#불필요한 내용 정리 하기에서 위와 아래는 동일한 내용\n",
    "review_df['review'] = review_df['review'].str.replace('<br />', ' ')\n",
    "review_df['review'] = review_df['review'].apply(lambda x : re.sub(\"[^a-zA-Z]\",\" \", x))"
   ]
  },
  {
   "cell_type": "code",
   "execution_count": 6,
   "metadata": {},
   "outputs": [
    {
     "name": "stdout",
     "output_type": "stream",
     "text": [
      "0        1\n",
      "1        1\n",
      "2        0\n",
      "3        0\n",
      "4        1\n",
      "        ..\n",
      "24995    0\n",
      "24996    0\n",
      "24997    0\n",
      "24998    0\n",
      "24999    1\n",
      "Name: sentiment, Length: 25000, dtype: int64\n",
      "                                                  review\n",
      "0       With all this stuff going down at the moment ...\n",
      "1         The Classic War of the Worlds   by Timothy ...\n",
      "2       The film starts with a manager  Nicholas Bell...\n",
      "3       It must be assumed that those who praised thi...\n",
      "4       Superbly trashy and wondrously unpretentious ...\n",
      "...                                                  ...\n",
      "24995   It seems like more consideration has gone int...\n",
      "24996   I don t believe they made this film  Complete...\n",
      "24997   Guy is a loser  Can t get girls  needs to bui...\n",
      "24998   This    minute documentary Bu uel made in the...\n",
      "24999   I saw this movie as a child and it broke my h...\n",
      "\n",
      "[25000 rows x 1 columns]\n",
      "(17500, 1) (7500, 1)\n"
     ]
    }
   ],
   "source": [
    "from sklearn.model_selection import train_test_split\n",
    "\n",
    "class_df = review_df['sentiment']\n",
    "print(class_df)\n",
    "\n",
    "feature_df = review_df.drop(['id','sentiment'], axis=1, inplace=False)\n",
    "print(feature_df)\n",
    "\n",
    "X_train, X_test, y_train, y_test = train_test_split(feature_df, class_df, test_size=0.3, random_state=156)\n",
    "print(X_train.shape, X_test.shape)"
   ]
  },
  {
   "cell_type": "code",
   "execution_count": 7,
   "metadata": {},
   "outputs": [],
   "source": [
    "from sklearn.feature_extraction.text import CountVectorizer, TfidfVectorizer\n",
    "from sklearn.pipeline import Pipeline\n",
    "from sklearn.linear_model import LogisticRegression\n",
    "from sklearn.metrics import accuracy_score, roc_auc_score\n",
    "\n",
    "pipline = Pipeline([\n",
    "    ('cnt_vect', CountVectorizer(stop_words='english', ngram_range=(1,2))),\n",
    "    ('lt_clf', LogisticRegression(C=10))])"
   ]
  },
  {
   "cell_type": "code",
   "execution_count": 8,
   "metadata": {},
   "outputs": [
    {
     "name": "stderr",
     "output_type": "stream",
     "text": [
      "c:\\users\\hana\\pycharmprojects\\hanatour\\venv\\lib\\site-packages\\sklearn\\linear_model\\_logistic.py:764: ConvergenceWarning: lbfgs failed to converge (status=1):\n",
      "STOP: TOTAL NO. of ITERATIONS REACHED LIMIT.\n",
      "\n",
      "Increase the number of iterations (max_iter) or scale the data as shown in:\n",
      "    https://scikit-learn.org/stable/modules/preprocessing.html\n",
      "Please also refer to the documentation for alternative solver options:\n",
      "    https://scikit-learn.org/stable/modules/linear_model.html#logistic-regression\n",
      "  extra_warning_msg=_LOGISTIC_SOLVER_CONVERGENCE_MSG)\n"
     ]
    },
    {
     "name": "stdout",
     "output_type": "stream",
     "text": [
      "0.886 0.9502703875483725\n"
     ]
    }
   ],
   "source": [
    "#Pipline 객체를 이용해 fit(), prefit()로 학습/예측 수행, predict_proba()는 roc_auc때문에 수행\n",
    "pipline.fit(X_train['review'], y_train)\n",
    "pred = pipline.predict(X_test['review'])\n",
    "pred_prods = pipline.predict_proba(X_test['review'])[:, 1]\n",
    "print(accuracy_score(y_test, pred), roc_auc_score(y_test, pred_prods))"
   ]
  },
  {
   "cell_type": "code",
   "execution_count": 9,
   "metadata": {},
   "outputs": [
    {
     "name": "stdout",
     "output_type": "stream",
     "text": [
      "0.8936 0.959799823582973\n"
     ]
    }
   ],
   "source": [
    "#스톱 워드는 English, Filtering, ngram은 (1,2)로 설정해 TfidfVectorizer 수행\n",
    "#LogisticRegression의 C는 10으로 설정\n",
    "pipline = Pipeline([\n",
    "    ('tfidf_vect', TfidfVectorizer(stop_words='english', ngram_range=(1,2))),\n",
    "    ('lt_clf', LogisticRegression(C=10))])\n",
    "\n",
    "pipline.fit(X_train['review'], y_train)\n",
    "pred = pipline.predict(X_test['review'])\n",
    "pred_prods = pipline.predict_proba(X_test['review'])[:, 1]\n",
    "print(accuracy_score(y_test, pred), roc_auc_score(y_test, pred_prods))"
   ]
  },
  {
   "cell_type": "code",
   "execution_count": null,
   "metadata": {},
   "outputs": [],
   "source": []
  }
 ],
 "metadata": {
  "kernelspec": {
   "display_name": "Python 3",
   "language": "python",
   "name": "python3"
  },
  "language_info": {
   "codemirror_mode": {
    "name": "ipython",
    "version": 3
   },
   "file_extension": ".py",
   "mimetype": "text/x-python",
   "name": "python",
   "nbconvert_exporter": "python",
   "pygments_lexer": "ipython3",
   "version": "3.7.7"
  }
 },
 "nbformat": 4,
 "nbformat_minor": 4
}
