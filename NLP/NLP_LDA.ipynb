{
 "cells": [
  {
   "cell_type": "code",
   "execution_count": 3,
   "metadata": {},
   "outputs": [
    {
     "name": "stdout",
     "output_type": "stream",
     "text": [
      "  (0, 93)\t1\n",
      "  (0, 670)\t1\n",
      "  (0, 391)\t1\n",
      "  (0, 148)\t1\n",
      "  (0, 252)\t1\n",
      "  (0, 876)\t1\n",
      "  (0, 70)\t1\n",
      "  (0, 877)\t1\n",
      "  (1, 391)\t1\n",
      "  (1, 429)\t1\n",
      "  (1, 392)\t1\n",
      "  (1, 238)\t1\n",
      "  (1, 608)\t1\n",
      "  (1, 404)\t1\n",
      "  (1, 955)\t2\n",
      "  (1, 513)\t2\n",
      "  (1, 679)\t2\n",
      "  (1, 656)\t2\n",
      "  (1, 881)\t2\n",
      "  (1, 734)\t1\n",
      "  (1, 689)\t1\n",
      "  (1, 23)\t1\n",
      "  (1, 894)\t1\n",
      "  (1, 15)\t1\n",
      "  (1, 12)\t1\n",
      "  :\t:\n",
      "  (7858, 61)\t3\n",
      "  (7858, 864)\t2\n",
      "  (7858, 133)\t1\n",
      "  (7859, 512)\t1\n",
      "  (7859, 529)\t1\n",
      "  (7859, 782)\t1\n",
      "  (7859, 773)\t1\n",
      "  (7859, 54)\t1\n",
      "  (7859, 667)\t1\n",
      "  (7859, 159)\t1\n",
      "  (7859, 388)\t1\n",
      "  (7859, 126)\t1\n",
      "  (7860, 876)\t1\n",
      "  (7860, 70)\t1\n",
      "  (7860, 877)\t1\n",
      "  (7860, 429)\t1\n",
      "  (7860, 679)\t1\n",
      "  (7860, 922)\t1\n",
      "  (7860, 244)\t1\n",
      "  (7860, 795)\t1\n",
      "  (7860, 911)\t1\n",
      "  (7860, 683)\t1\n",
      "  (7860, 909)\t1\n",
      "  (7860, 491)\t1\n",
      "  (7861, 973)\t1\n",
      "(7862, 1000)\n"
     ]
    }
   ],
   "source": [
    "from sklearn.datasets import fetch_20newsgroups\n",
    "from sklearn.feature_extraction.text import CountVectorizer\n",
    "from sklearn.decomposition import LatentDirichletAllocation\n",
    "\n",
    "import os, sys  \n",
    "module_path = os.path.abspath(os.path.join('..'))\n",
    "if module_path not in sys.path:\n",
    "    sys.path.append(module_path+\"\\\\Common_Module\")\n",
    "\n",
    "import CMNLP as CMNLP\n",
    "\n",
    "#모토사이클, 야구, 그래픽스, 윈도우즈, 중동, 기독교, 전자공학, 의학 8개 주제를 추출\n",
    "cats = ['rec.motorcycles', 'rec.sport.baseball', 'comp.graphics', 'comp.windows.x', 'talk.politics.mideast', 'soc.religion.christian', 'sci.electronics', 'sci.med']\n",
    "\n",
    "#위에서 cats변수로 기재된 카테고리만 추출, fetch_20newsgrouops()의 categories에 cats입력\n",
    "news_df = fetch_20newsgroups(subset='all', remove=('headers', 'footers', 'quotes'), categories=cats, random_state=0)\n",
    "\n",
    "#LDA는 Count기반의 벡터화만 적용합니다.\n",
    "count_vect = CountVectorizer(max_df=0.95, max_features=1000, min_df=2, stop_words='english', ngram_range=(1,2))\n",
    "fect_vect = count_vect.fit_transform(news_df.data)\n",
    "print(fect_vect)\n",
    "print(fect_vect.shape)"
   ]
  },
  {
   "cell_type": "code",
   "execution_count": 4,
   "metadata": {},
   "outputs": [
    {
     "name": "stdout",
     "output_type": "stream",
     "text": [
      "lda\n",
      "\n",
      "[[2.46251560e+02 1.18842248e+02 1.51715288e+02 ... 1.00147234e+02\n",
      "  7.63673375e+01 1.17028758e+02]\n",
      " [1.25033020e-01 1.25052288e-01 1.25003012e-01 ... 1.10644583e+02\n",
      "  1.51405141e-01 5.09788954e+01]\n",
      " [1.25103419e-01 1.25075224e-01 1.25082214e-01 ... 6.72008817e+01\n",
      "  1.25138615e-01 2.48516614e+00]\n",
      " ...\n",
      " [1.05055615e+02 4.94858011e-01 2.52075927e+01 ... 1.80695744e+01\n",
      "  1.25115936e-01 8.33321314e+00]\n",
      " [1.25147502e-01 2.27058083e+02 5.45176328e+00 ... 1.41751120e+00\n",
      "  7.67217701e+01 4.49861794e+01]\n",
      " [1.25096012e-01 4.05666840e+00 1.25049904e-01 ... 1.63821915e+02\n",
      "  1.25049991e-01 1.49550227e-01]]\n",
      "(8, 1000)\n"
     ]
    }
   ],
   "source": [
    "print('lda\\n')\n",
    "lda = LatentDirichletAllocation(n_components=8, random_state=0)\n",
    "lda.fit(fect_vect)\n",
    "print(lda.components_)\n",
    "print(lda.components_.shape)"
   ]
  },
  {
   "cell_type": "code",
   "execution_count": 5,
   "metadata": {},
   "outputs": [
    {
     "name": "stdout",
     "output_type": "stream",
     "text": [
      "['00', '000', '01', '02', '03', '04', '05', '10', '100', '11', '12', '128', '13', '14', '15', '16', '17', '18', '19', '1990', '1991', '1992', '1993', '20', '200', '21', '22', '23', '24', '24 bit', '25', '256', '26', '27', '28', '29', '30', '300', '31', '32', '35', '3d', '40', '44', '50', '500', '60', '80', '800', '90', '91', '92', '93', 'ability', 'able', 'ac', 'accept', 'accepted', 'access', 'according', 'act', 'action', 'actions', 'acts', 'actually', 'add', 'added', 'addition', 'address', 'adl', 'advance', 'age', 'ago', 'agree', 'aids', 'al', 'allow', 'american', 'amiga', 'analysis', 'anonymous', 'anonymous ftp', 'answer', 'answers', 'anti', 'anybody', 'apartment', 'apparently', 'appear', 'appears', 'application', 'applications', 'apply', 'appreciate', 'appreciated', 'approach', 'appropriate', 'april', 'arab', 'arabs', 'archive', 'area', 'areas', 'aren', 'argic', 'argument', 'armenia', 'armenian', 'armenians', 'army', 'art', 'article', 'articles', 'ask', 'asked', 'assume', 'attack', 'attempt', 'author', 'available', 'average', 'avoid', 'away', 'azerbaijan', 'azerbaijani', 'bad', 'ball', 'base', 'baseball', 'based', 'basic', 'basis', 'battery', 'belief', 'believe', 'best', 'better', 'bible', 'big', 'bike', 'bit', 'bits', 'black', 'blood', 'blue', 'board', 'body', 'book', 'books', 'born', 'box', 'break', 'bring', 'british', 'brought', 'build', 'building', 'built', 'bus', 'buy', 'ca', 'california', 'called', 'came', 'cancer', 'car', 'card', 'care', 'case', 'cases', 'catholic', 'cause', 'center', 'century', 'certain', 'certainly', 'chance', 'change', 'changed', 'changes', 'char', 'check', 'child', 'children', 'chip', 'choice', 'christ', 'christian', 'christianity', 'christians', 'church', 'circuit', 'city', 'claim', 'claims', 'class', 'clear', 'clearly', 'client', 'clients', 'clinical', 'close', 'code', 'color', 'colors', 'com', 'come', 'comes', 'coming', 'command', 'comments', 'commercial', 'common', 'community', 'comp', 'company', 'complete', 'completely', 'computer', 'condition', 'conference', 'consider', 'considered', 'contact', 'contains', 'context', 'continue', 'contrib', 'control', 'conversion', 'convert', 'copy', 'correct', 'cost', 'couldn', 'count', 'countries', 'country', 'couple', 'course', 'create', 'created', 'cs', 'culture', 'current', 'currently', 'cut', 'data', 'date', 'david', 'day', 'days', 'dead', 'deal', 'death', 'dec', 'default', 'define', 'defined', 'definition', 'deleted', 'department', 'described', 'description', 'design', 'designed', 'details', 'developed', 'development', 'did', 'didn', 'die', 'died', 'diet', 'difference', 'different', 'difficult', 'digital', 'directly', 'directory', 'discussion', 'disease', 'disk', 'display', 'distribution', 'doctor', 'dod', 'does', 'does know', 'doesn', 'dog', 'doing', 'don', 'don know', 'don think', 'door', 'dos', 'dos dos', 'double', 'doubt', 'dr', 'draw', 'drive', 'driver', 'drug', 'earlier', 'early', 'earth', 'easily', 'east', 'easy', 'echo', 'ed', 'edu', 'effect', 'effects', 'email', 'end', 'entire', 'entries', 'entry', 'environment', 'error', 'especially', 'europe', 'event', 'events', 'evidence', 'exactly', 'example', 'exist', 'existence', 'expect', 'experience', 'export', 'extra', 'eye', 'eyes', 'face', 'fact', 'fairly', 'faith', 'false', 'family', 'faq', 'far', 'fast', 'faster', 'father', 'fax', 'features', 'feel', 'field', 'figure', 'file', 'files', 'final', 'finally', 'fine', 'follow', 'following', 'font', 'fonts', 'food', 'force', 'form', 'format', 'formats', 'frame', 'free', 'friend', 'ftp', 'function', 'functions', 'future', 'game', 'games', 'gave', 'general', 'generally', 'genocide', 'gets', 'getting', 'gif', 'given', 'gives', 'giving', 'god', 'goes', 'going', 'gone', 'good', 'got', 'gov', 'government', 'graphics', 'great', 'greatly', 'greece', 'greek', 'green', 'ground', 'group', 'groups', 'guess', 'guy', 'guys', 'half', 'hand', 'handle', 'hands', 'happen', 'happened', 'happens', 'happy', 'hard', 'hardware', 'hate', 'haven', 'having', 'head', 'health', 'hear', 'heard', 'heart', 'heaven', 'held', 'hell', 'help', 'hi', 'high', 'higher', 'history', 'hit', 'hiv', 'hold', 'holy', 'home', 'homosexual', 'homosexuality', 'hope', 'hospital', 'host', 'hot', 'hours', 'house', 'hp', 'human', 'ibm', 'idea', 'ideas', 'ii', 'image', 'images', 'imagine', 'important', 'include', 'included', 'includes', 'including', 'individual', 'infection', 'info', 'information', 'input', 'inside', 'instead', 'int', 'interested', 'interesting', 'interface', 'international', 'internet', 'involved', 'isn', 'israel', 'israeli', 'issue', 'issues', 'istanbul', 'jesus', 'jewish', 'jews', 'job', 'john', 'jpeg', 'just', 'key', 'keyboard', 'kill', 'killed', 'kind', 'knew', 'know', 'knowledge', 'known', 'knows', 'kuwait', 'land', 'language', 'large', 'later', 'latest', 'law', 'lcs', 'lcs mit', 'lead', 'league', 'learn', 'leave', 'led', 'left', 'let', 'level', 'lib', 'library', 'life', 'light', 'like', 'likely', 'limited', 'line', 'lines', 'list', 'little', 'live', 'lived', 'lives', 'living', 'll', 'local', 'long', 'longer', 'look', 'looked', 'looking', 'looks', 'lord', 'lost', 'lot', 'lots', 'love', 'low', 'mac', 'machine', 'machines', 'mail', 'mailing', 'main', 'major', 'make', 'makes', 'making', 'man', 'manager', 'manual', 'mark', 'marriage', 'mary', 'matter', 'maybe', 'mean', 'meaning', 'means', 'medical', 'medicine', 'member', 'members', 'memory', 'men', 'mentioned', 'message', 'method', 'michael', 'middle', 'mike', 'military', 'million', 'mind', 'mit', 'mit edu', 'mode', 'model', 'modern', 'money', 'months', 'mother', 'motif', 'mouse', 'movement', 'mr', 'ms', 'msg', 'multiple', 'muslim', 'muslims', 'national', 'nature', 'nazi', 'near', 'necessary', 'need', 'needed', 'needs', 'net', 'network', 'new', 'new york', 'news', 'newsgroup', 'nice', 'night', 'non', 'normal', 'note', 'null', 'number', 'numbers', 'object', 'objects', 'obviously', 'office', 'official', 'oh', 'ok', 'old', 'ones', 'open', 'openwindows', 'opinion', 'order', 'organization', 'original', 'os', 'ottoman', 'output', 'outside', 'package', 'page', 'pages', 'pain', 'palestinian', 'palestinians', 'paper', 'parents', 'particular', 'parts', 'party', 'pass', 'past', 'path', 'patient', 'patients', 'paul', 'pc', 'peace', 'people', 'percent', 'performance', 'person', 'personal', 'phone', 'picture', 'pixel', 'place', 'places', 'play', 'player', 'players', 'plus', 'point', 'points', 'police', 'policy', 'political', 'population', 'position', 'possible', 'possibly', 'post', 'posted', 'posting', 'postscript', 'power', 'practice', 'present', 'press', 'pretty', 'prevent', 'previous', 'price', 'printf', 'probably', 'problem', 'problems', 'process', 'processing', 'product', 'products', 'professor', 'program', 'programming', 'programs', 'project', 'provide', 'provided', 'provides', 'pub', 'public', 'published', 'purpose', 'quality', 'question', 'questions', 'quite', 'r5', 'radio', 'range', 'rate', 'ray', 'read', 'reading', 'real', 'really', 'reason', 'reasonable', 'reasons', 'receive', 'received', 'recent', 'recently', 'red', 'reference', 'references', 'regarding', 'related', 'release', 'religion', 'religious', 'remember', 'remote', 'reply', 'report', 'reported', 'reports', 'request', 'require', 'required', 'requires', 'research', 'resource', 'resources', 'response', 'rest', 'result', 'results', 'return', 'ride', 'riding', 'right', 'rights', 'road', 'room', 'rule', 'rules', 'run', 'running', 'runs', 'russian', 'said', 'san', 'save', 'saw', 'say', 'saying', 'says', 'school', 'science', 'scientific', 'screen', 'scripture', 'search', 'season', 'second', 'section', 'seen', 'self', 'send', 'sense', 'sent', 'serdar', 'serdar argic', 'series', 'server', 'service', 'set', 'setting', 'sex', 'sgi', 'shall', 'shell', 'short', 'shows', 'signal', 'similar', 'simple', 'simply', 'sin', 'single', 'site', 'sites', 'situation', 'size', 'small', 'society', 'software', 'soldiers', 'solution', 'son', 'soon', 'sorry', 'sort', 'sound', 'sounds', 'source', 'sources', 'soviet', 'space', 'speak', 'special', 'specific', 'speed', 'spirit', 'st', 'standard', 'start', 'started', 'starting', 'state', 'statement', 'states', 'stay', 'steve', 'stop', 'story', 'street', 'string', 'strong', 'studies', 'study', 'stuff', 'subject', 'suggest', 'suggestions', 'sun', 'support', 'supported', 'supports', 'sure', 'systems', 'table', 'taken', 'takes', 'taking', 'talk', 'talking', 'tape', 'tar', 'team', 'technology', 'tell', 'term', 'terms', 'test', 'text', 'thank', 'thanks', 'thanks advance', 'theory', 'thing', 'things', 'think', 'thinking', 'thought', 'tiff', 'time', 'times', 'title', 'today', 'told', 'took', 'tool', 'toolkit', 'tools', 'total', 'town', 'treatment', 'tried', 'troops', 'trouble', 'true', 'truth', 'try', 'trying', 'turkey', 'turkish', 'turks', 'turn', 'turned', 'tv', 'type', 'types', 'uk', 'understand', 'understanding', 'unfortunately', 'united', 'united states', 'university', 'unix', 'unless', 'use', 'used', 'useful', 'usenet', 'user', 'users', 'uses', 'using', 'usr', 'usually', 'value', 'values', 'various', 've', 'version', 'versions', 'video', 'view', 'village', 'villages', 'visual', 'vitamin', 'volume', 'want', 'wanted', 'wants', 'war', 'washington', 'wasn', 'water', 'way', 'ways', 'week', 'weeks', 'went', 'west', 'western', 'white', 'widget', 'widgets', 'wife', 'willing', 'win', 'window', 'window manager', 'windows', 'wire', 'wish', 'woman', 'women', 'won', 'wondering', 'word', 'words', 'work', 'worked', 'working', 'works', 'world', 'worth', 'wouldn', 'write', 'writing', 'written', 'wrong', 'wrote', 'x11', 'x11r5', 'xlib', 'xt', 'xterm', 'xv', 'xview', 'year', 'years', 'years ago', 'yes', 'york', 'young']\n",
      "Topic # 0\n",
      "year said don didn know game just time went people think did like say home\n",
      "Topic # 1\n",
      "god people jesus church think believe christ say does don christian know christians bible faith\n",
      "Topic # 2\n",
      "know does thanks like question information help time post advance book just looking group read\n",
      "Topic # 3\n",
      "edu com graphics mail ftp information available data pub list computer send software ca 3d\n",
      "Topic # 4\n",
      "israel jews jewish israeli dos dos arab turkish people war turkey dos state government greek history\n",
      "Topic # 5\n",
      "file image use program window jpeg windows display version color server files using available motif\n",
      "Topic # 6\n",
      "armenian armenians people health medical armenia disease turkish patients cancer russian 10 azerbaijan children 92\n",
      "Topic # 7\n",
      "like just don ve use good think time know way make used bike want need\n"
     ]
    }
   ],
   "source": [
    "#CountVectorizer객체 내의 전체 word의 명칭을 get_feature_names()을 통해 추출\n",
    "feature_names = count_vect.get_feature_names()\n",
    "print(feature_names)\n",
    "\n",
    "#토픽별 가장 연관도가 높은 word를 15개만 추출\n",
    "CMNLP.display_topics(lda, feature_names, 15)"
   ]
  },
  {
   "cell_type": "code",
   "execution_count": null,
   "metadata": {},
   "outputs": [],
   "source": []
  }
 ],
 "metadata": {
  "kernelspec": {
   "display_name": "Python 3",
   "language": "python",
   "name": "python3"
  },
  "language_info": {
   "codemirror_mode": {
    "name": "ipython",
    "version": 3
   },
   "file_extension": ".py",
   "mimetype": "text/x-python",
   "name": "python",
   "nbconvert_exporter": "python",
   "pygments_lexer": "ipython3",
   "version": "3.7.7"
  }
 },
 "nbformat": 4,
 "nbformat_minor": 4
}
