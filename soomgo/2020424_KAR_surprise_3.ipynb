{
 "cells": [
  {
   "cell_type": "code",
   "execution_count": 3,
   "metadata": {},
   "outputs": [],
   "source": [
    "import pandas as pd\n",
    "from surprise import Reader, Dataset\n",
    "\n",
    "ratings = pd.read_csv(r'C:\\Users\\HANA\\Downloads\\ml-latest\\ml-latest\\ratings.csv')\n",
    "ratings.to_csv('C:\\\\Users\\\\HANA\\\\Downloads\\\\ml-latest\\\\ml-latest\\\\ratings_noh.csv', index=False, header=False)\n",
    "\n",
    "reader = Reader(line_format='user item rating timestamp', sep=',', rating_scale=(0.5, 5))\n",
    "data = Dataset.load_from_file(r'C:\\\\Users\\\\HANA\\\\Downloads\\\\ml-latest\\\\ml-latest\\\\ratings_noh.csv', reader=reader)"
   ]
  },
  {
   "cell_type": "code",
   "execution_count": 4,
   "metadata": {},
   "outputs": [
    {
     "name": "stdout",
     "output_type": "stream",
     "text": [
      "RMSE: 0.8028\n"
     ]
    },
    {
     "data": {
      "text/plain": [
       "0.8027962863618715"
      ]
     },
     "execution_count": 4,
     "metadata": {},
     "output_type": "execute_result"
    }
   ],
   "source": [
    "from surprise.model_selection import train_test_split\n",
    "from surprise import SVD\n",
    "from surprise import accuracy\n",
    "\n",
    "trainset, testset = train_test_split(data, test_size=.25, random_state=0)\n",
    "algo = SVD(n_factors=50, random_state=0)\n",
    "algo.fit(trainset)\n",
    "predictions = algo.test(testset)\n",
    "accuracy.rmse(predictions)\n"
   ]
  },
  {
   "cell_type": "code",
   "execution_count": 5,
   "metadata": {},
   "outputs": [
    {
     "data": {
      "text/plain": [
       "<surprise.prediction_algorithms.matrix_factorization.SVD at 0x28dfe50c0c8>"
      ]
     },
     "execution_count": 5,
     "metadata": {},
     "output_type": "execute_result"
    }
   ],
   "source": [
    "from surprise.dataset import DatasetAutoFolds\n",
    "reader = Reader(line_format='user item rating timestamp', sep=',', rating_scale=(0, 0.5))\n",
    "data_folds = DatasetAutoFolds(ratings_file='C:\\\\Users\\\\HANA\\\\Downloads\\\\ml-latest\\\\ml-latest\\\\ratings_noh.csv', reader=reader)\n",
    "trainset = data_folds.build_full_trainset()\n",
    "\n",
    "algo = SVD(n_epochs=20, n_factors=50, random_state=0)\n",
    "algo.fit(trainset)"
   ]
  },
  {
   "cell_type": "code",
   "execution_count": 7,
   "metadata": {},
   "outputs": [
    {
     "data": {
      "text/plain": [
       "<surprise.prediction_algorithms.matrix_factorization.SVD at 0x28e315b3208>"
      ]
     },
     "execution_count": 7,
     "metadata": {},
     "output_type": "execute_result"
    }
   ],
   "source": [
    "from surprise.dataset import DatasetAutoFolds\n",
    "reader = Reader(line_format='user item rating timestamp', sep=',', rating_scale=(0, 0.5))\n",
    "data_folds = DatasetAutoFolds(ratings_file='C:\\\\Users\\\\HANA\\\\Downloads\\\\ml-latest\\\\ml-latest\\\\ratings_noh.csv', reader=reader)\n",
    "trainset = data_folds.build_full_trainset()\n",
    "\n",
    "algo = SVD(n_epochs=20, n_factors=50, random_state=0)\n",
    "algo.fit(trainset)\n"
   ]
  },
  {
   "cell_type": "code",
   "execution_count": null,
   "metadata": {},
   "outputs": [],
   "source": [
    "\n",
    "movie = pd.read_csv(r'C:\\\\Users\\\\HANA\\\\Downloads\\\\ml-latest-small\\\\movies.csv')\n",
    "movieid = ratings[ratings['userId']==9]['movie']\n",
    "print(movieid)\n",
    "\n",
    "uid = str(9)\n",
    "iid = str(42)\n",
    "\n",
    "pred = algo.predict(uid, iid, verbose=True)"
   ]
  }
 ],
 "metadata": {
  "kernelspec": {
   "display_name": "Python 3",
   "language": "python",
   "name": "python3"
  }
 },
 "nbformat": 4,
 "nbformat_minor": 4
}
